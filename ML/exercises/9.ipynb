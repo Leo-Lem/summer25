{
 "cells": [
  {
   "cell_type": "markdown",
   "id": "5f3cc5cc",
   "metadata": {},
   "source": [
    "# K-Means / PCA"
   ]
  },
  {
   "cell_type": "markdown",
   "id": "d03ce200",
   "metadata": {},
   "source": [
    "## Task Description\n",
    "\n",
    "In this exercise, your task is to compress images using K-Means and PCA algorithms.\n",
    "\n",
    "You are given three RGB images: a butterfly, a flower, and a planet.\n",
    "\n",
    "<img src=\"butterfly.jpg\" alt=\"Photo by David Clode on Unsplash\" height=\"300\"/>\n",
    "<img src=\"flower.jpg\" alt=\"Photo by Y S on Unsplash\"  height=\"300\"/>\n",
    "<img src=\"nasa.jpg\" alt=\"Photo by NASA on Unsplash\" height=\"300\"/>\n",
    "\n",
    "You have to implement and answer the following:\n",
    "1. Compute the singular values of an image.\n",
    "\n",
    "2. K-Means Classifier using sklearn with the arguments (see function's signature) and random_state=42. \n",
    "Each data point resembles a pixel in 3-dim space (RGB).\n",
    "You should replace each pixel with its nearest cluster center.\n",
    "- What number of clusters is good for compressing each image?\n",
    "\n",
    "3. PCA using sklearn with the arguments (see function's signature) and random_state=42.\n",
    "Treat each $n \\times m$ image as three different data matrices, where each color channel (Red, Green, and Blue) gives rise to exactly one $n \\times m$ data matrix.\n",
    "- What number of principal components is enough to almost perfectly compress each image?\n",
    "- What number of principal components is enough for a human to see what is on the image?"
   ]
  },
  {
   "cell_type": "code",
   "execution_count": 1,
   "id": "1bff0760",
   "metadata": {},
   "outputs": [],
   "source": [
    "# Run `pip install PyQt6` if you get an error\n",
    "\n",
    "import matplotlib\n",
    "\n",
    "matplotlib.use(\"QtAgg\")\n",
    "\n",
    "import matplotlib.pyplot as plt\n",
    "import numpy as np\n",
    "from matplotlib.image import imread\n",
    "from matplotlib.widgets import Slider\n",
    "from numpy.typing import ArrayLike\n",
    "from sklearn.cluster import KMeans\n",
    "from sklearn.decomposition import PCA\n",
    "import functools\n",
    "\n",
    "np.random.seed(42)"
   ]
  },
  {
   "cell_type": "code",
   "execution_count": 2,
   "id": "6166d7dc",
   "metadata": {},
   "outputs": [],
   "source": [
    "def get_singular_values(image: ArrayLike) -> ArrayLike:\n",
    "    \"\"\"\n",
    "    Compute singular values directly from the reshaped and centered RGB image.\n",
    "\n",
    "    Args:\n",
    "        image: RGB image of shape (H, W, 3).\n",
    "    Returns:\n",
    "        Singular values of the centered 2D image matrix.\n",
    "    \"\"\"\n",
    "    image = np.asarray(image)\n",
    "\n",
    "    if image.ndim != 3 or image.shape[2] != 3:\n",
    "        raise ValueError(\"Expected RGB image with shape (H, W, 3).\")\n",
    "\n",
    "    # Option 1: flatten channels into width dimension → (H, W*3)\n",
    "    reshaped_image = image.reshape(image.shape[0], -1)  # (H, W*3)\n",
    "\n",
    "    # Center the data (subtract column-wise mean)\n",
    "    centered = reshaped_image - np.mean(reshaped_image, axis=0)\n",
    "\n",
    "    # Compute SVD directly\n",
    "    _, s, _ = np.linalg.svd(centered, full_matrices=False)\n",
    "\n",
    "    return s"
   ]
  },
  {
   "cell_type": "code",
   "execution_count": 3,
   "id": "7a38b6e7",
   "metadata": {},
   "outputs": [],
   "source": [
    "def transform_kmeans(image: ArrayLike, n_clusters: int, n_init: int = 1) -> ArrayLike:\n",
    "    \"\"\"Transform the image using KMeans clustering.\n",
    "    Args:\n",
    "        image (ArrayLike): The image to be transformed.\n",
    "        n_clusters (int): The number of clusters to use.\n",
    "        n_init (int): The number of times the KMeans algorithm will be run with different centroid seeds.\n",
    "    Returns:\n",
    "        ArrayLike: The transformed image.\n",
    "    \"\"\"\n",
    "    # TODO: Implement this function using sklearn and random_state=42\n",
    "    # Note: do not forget to reshape the image as the task description says\n",
    "    reshaped = image.reshape(-1, 3)  # Reshape to (H*W, 3)\n",
    "    kmeans = KMeans(n_clusters=n_clusters, n_init=n_init, random_state=42)\n",
    "    kmeans.fit(reshaped)\n",
    "    transformed = kmeans.cluster_centers_[kmeans.labels_]\n",
    "    return transformed.reshape(image.shape)  # Reshape back to (H, W, 3)"
   ]
  },
  {
   "cell_type": "code",
   "execution_count": 4,
   "id": "e6a20390",
   "metadata": {},
   "outputs": [],
   "source": [
    "def transform_pca(image: ArrayLike, n_components: int) -> ArrayLike:\n",
    "    \"\"\"Transform an image using PCA.\n",
    "    Args:\n",
    "        image (ArrayLike): The image to be transformed.\n",
    "        n_components (int): The number of PCA components to use.\n",
    "    Returns:\n",
    "        ArrayLike: The transformed image.\n",
    "    \"\"\"\n",
    "    # TODO: Implement this function using sklearn and random_state=42\n",
    "    # Note: do not forget to reshape the image as the task description says\n",
    "\n",
    "    pass"
   ]
  },
  {
   "cell_type": "code",
   "execution_count": 5,
   "id": "0b5fda23",
   "metadata": {},
   "outputs": [],
   "source": [
    "def plot_slider_image(image: ArrayLike, transform: callable, title: str) -> None:\n",
    "    \"\"\"Plot an image with a slider to adjust the number of PCA components.\n",
    "    Args:\n",
    "        image (ArrayLike): The image to be transformed.\n",
    "        transform (callable): The transformation function to apply to the image.\n",
    "        title (str): The title of the plot.\n",
    "    \"\"\"\n",
    "\n",
    "    @functools.cache\n",
    "    def cached_transform(*args, **kwargs):\n",
    "        return transform(image, *args, **kwargs)\n",
    "\n",
    "    fig, (ax1, ax2) = plt.subplots(1, 2, figsize=(8, 6))\n",
    "    fig.subplots_adjust(bottom=0.25)\n",
    "\n",
    "    d = min(min(image.shape[:2]) - 1, 60)  # max number of clusters/components is 60\n",
    "    allowed_pca = list(range(1, d + 1))\n",
    "\n",
    "    pos = ax1.get_position()\n",
    "    ax_pca_cnt = fig.add_axes([pos.x0 + 0.02, pos.y0 - 0.1, pos.width, 0.03])\n",
    "\n",
    "    if transform == transform_kmeans:\n",
    "        slider_title = \"n_clusters\"\n",
    "    elif transform == transform_pca:\n",
    "        slider_title = \"n_components\"\n",
    "    else:\n",
    "        slider_title = \"unknown\"\n",
    "    spca = Slider(\n",
    "        ax_pca_cnt,\n",
    "        slider_title,\n",
    "        1,\n",
    "        d,\n",
    "        valinit=allowed_pca[1],\n",
    "        valstep=allowed_pca,\n",
    "        color=\"red\",\n",
    "    )\n",
    "\n",
    "    disp = ax1.imshow(cached_transform(allowed_pca[1]).clip(0, 1))\n",
    "\n",
    "    def update(val):\n",
    "        n_pcs = spca.val\n",
    "        disp.set_data(cached_transform(n_pcs).clip(0, 1))\n",
    "        fig.canvas.draw_idle()\n",
    "\n",
    "    spca.on_changed(update)\n",
    "\n",
    "    sigmas = get_singular_values(image)\n",
    "    ax2.plot(list(range(d)), sigmas[:d], \".\", color=\"#D81B60\")\n",
    "    ax2.set_xlabel(\"Singular value index\")\n",
    "    ax2.set_ylabel(\"Singular value\")\n",
    "\n",
    "    if transform == transform_pca:\n",
    "        transform_name = \"PCA\"\n",
    "    elif transform == transform_kmeans:\n",
    "        transform_name = \"KMeans\"\n",
    "    else:\n",
    "        transform_name = \"Unknown\"\n",
    "\n",
    "    fig.suptitle(f\"{transform_name} of {title} Image\")\n",
    "\n",
    "    plt.show()"
   ]
  },
  {
   "cell_type": "code",
   "execution_count": 6,
   "id": "14840bfe",
   "metadata": {},
   "outputs": [],
   "source": [
    "def pipeline(path: str, transform: callable, title: str) -> None:\n",
    "    \"\"\"Run the PCA pipeline on an image.\n",
    "    Args:\n",
    "        path (str): The path to the image file.\n",
    "        transform (callable): The transformation function to apply to the image.\n",
    "        title (str): The title of the plot.\n",
    "    \"\"\"\n",
    "    im = imread(path) / 255.0\n",
    "    plot_slider_image(im, transform, title)"
   ]
  },
  {
   "cell_type": "markdown",
   "id": "31f80501",
   "metadata": {},
   "source": [
    "## Butterfly"
   ]
  },
  {
   "cell_type": "code",
   "execution_count": 8,
   "id": "d3db4761",
   "metadata": {},
   "outputs": [
    {
     "ename": "ImportError",
     "evalue": "libGL.so.1: cannot open shared object file: No such file or directory",
     "output_type": "error",
     "traceback": [
      "\u001b[31m---------------------------------------------------------------------------\u001b[39m",
      "\u001b[31mImportError\u001b[39m                               Traceback (most recent call last)",
      "\u001b[36mCell\u001b[39m\u001b[36m \u001b[39m\u001b[32mIn[8]\u001b[39m\u001b[32m, line 1\u001b[39m\n\u001b[32m----> \u001b[39m\u001b[32m1\u001b[39m \u001b[43mpipeline\u001b[49m\u001b[43m(\u001b[49m\u001b[33;43m\"\u001b[39;49m\u001b[33;43mbutterfly.jpg\u001b[39;49m\u001b[33;43m\"\u001b[39;49m\u001b[43m,\u001b[49m\u001b[43m \u001b[49m\u001b[43mtransform_kmeans\u001b[49m\u001b[43m,\u001b[49m\u001b[43m \u001b[49m\u001b[43mtitle\u001b[49m\u001b[43m=\u001b[49m\u001b[33;43m\"\u001b[39;49m\u001b[33;43mButterfly\u001b[39;49m\u001b[33;43m\"\u001b[39;49m\u001b[43m)\u001b[49m\n",
      "\u001b[36mCell\u001b[39m\u001b[36m \u001b[39m\u001b[32mIn[6]\u001b[39m\u001b[32m, line 9\u001b[39m, in \u001b[36mpipeline\u001b[39m\u001b[34m(path, transform, title)\u001b[39m\n\u001b[32m      2\u001b[39m \u001b[38;5;250m\u001b[39m\u001b[33;03m\"\"\"Run the PCA pipeline on an image.\u001b[39;00m\n\u001b[32m      3\u001b[39m \u001b[33;03mArgs:\u001b[39;00m\n\u001b[32m      4\u001b[39m \u001b[33;03m    path (str): The path to the image file.\u001b[39;00m\n\u001b[32m      5\u001b[39m \u001b[33;03m    transform (callable): The transformation function to apply to the image.\u001b[39;00m\n\u001b[32m      6\u001b[39m \u001b[33;03m    title (str): The title of the plot.\u001b[39;00m\n\u001b[32m      7\u001b[39m \u001b[33;03m\"\"\"\u001b[39;00m\n\u001b[32m      8\u001b[39m im = imread(path) / \u001b[32m255.0\u001b[39m\n\u001b[32m----> \u001b[39m\u001b[32m9\u001b[39m \u001b[43mplot_slider_image\u001b[49m\u001b[43m(\u001b[49m\u001b[43mim\u001b[49m\u001b[43m,\u001b[49m\u001b[43m \u001b[49m\u001b[43mtransform\u001b[49m\u001b[43m,\u001b[49m\u001b[43m \u001b[49m\u001b[43mtitle\u001b[49m\u001b[43m)\u001b[49m\n",
      "\u001b[36mCell\u001b[39m\u001b[36m \u001b[39m\u001b[32mIn[5]\u001b[39m\u001b[32m, line 13\u001b[39m, in \u001b[36mplot_slider_image\u001b[39m\u001b[34m(image, transform, title)\u001b[39m\n\u001b[32m      9\u001b[39m \u001b[38;5;129m@functools\u001b[39m.cache\n\u001b[32m     10\u001b[39m \u001b[38;5;28;01mdef\u001b[39;00m\u001b[38;5;250m \u001b[39m\u001b[34mcached_transform\u001b[39m(*args, **kwargs):\n\u001b[32m     11\u001b[39m     \u001b[38;5;28;01mreturn\u001b[39;00m transform(image, *args, **kwargs)\n\u001b[32m---> \u001b[39m\u001b[32m13\u001b[39m fig, (ax1, ax2) = \u001b[43mplt\u001b[49m\u001b[43m.\u001b[49m\u001b[43msubplots\u001b[49m\u001b[43m(\u001b[49m\u001b[32;43m1\u001b[39;49m\u001b[43m,\u001b[49m\u001b[43m \u001b[49m\u001b[32;43m2\u001b[39;49m\u001b[43m,\u001b[49m\u001b[43m \u001b[49m\u001b[43mfigsize\u001b[49m\u001b[43m=\u001b[49m\u001b[43m(\u001b[49m\u001b[32;43m8\u001b[39;49m\u001b[43m,\u001b[49m\u001b[43m \u001b[49m\u001b[32;43m6\u001b[39;49m\u001b[43m)\u001b[49m\u001b[43m)\u001b[49m\n\u001b[32m     14\u001b[39m fig.subplots_adjust(bottom=\u001b[32m0.25\u001b[39m)\n\u001b[32m     16\u001b[39m d = \u001b[38;5;28mmin\u001b[39m(\u001b[38;5;28mmin\u001b[39m(image.shape[:\u001b[32m2\u001b[39m]) - \u001b[32m1\u001b[39m, \u001b[32m60\u001b[39m)  \u001b[38;5;66;03m# max number of clusters/components is 60\u001b[39;00m\n",
      "\u001b[36mFile \u001b[39m\u001b[32m/usr/local/python/3.13.3/lib/python3.13/site-packages/matplotlib/pyplot.py:1777\u001b[39m, in \u001b[36msubplots\u001b[39m\u001b[34m(nrows, ncols, sharex, sharey, squeeze, width_ratios, height_ratios, subplot_kw, gridspec_kw, **fig_kw)\u001b[39m\n\u001b[32m   1622\u001b[39m \u001b[38;5;28;01mdef\u001b[39;00m\u001b[38;5;250m \u001b[39m\u001b[34msubplots\u001b[39m(\n\u001b[32m   1623\u001b[39m     nrows: \u001b[38;5;28mint\u001b[39m = \u001b[32m1\u001b[39m, ncols: \u001b[38;5;28mint\u001b[39m = \u001b[32m1\u001b[39m, *,\n\u001b[32m   1624\u001b[39m     sharex: \u001b[38;5;28mbool\u001b[39m | Literal[\u001b[33m\"\u001b[39m\u001b[33mnone\u001b[39m\u001b[33m\"\u001b[39m, \u001b[33m\"\u001b[39m\u001b[33mall\u001b[39m\u001b[33m\"\u001b[39m, \u001b[33m\"\u001b[39m\u001b[33mrow\u001b[39m\u001b[33m\"\u001b[39m, \u001b[33m\"\u001b[39m\u001b[33mcol\u001b[39m\u001b[33m\"\u001b[39m] = \u001b[38;5;28;01mFalse\u001b[39;00m,\n\u001b[32m   (...)\u001b[39m\u001b[32m   1631\u001b[39m     **fig_kw\n\u001b[32m   1632\u001b[39m ) -> \u001b[38;5;28mtuple\u001b[39m[Figure, Any]:\n\u001b[32m   1633\u001b[39m \u001b[38;5;250m    \u001b[39m\u001b[33;03m\"\"\"\u001b[39;00m\n\u001b[32m   1634\u001b[39m \u001b[33;03m    Create a figure and a set of subplots.\u001b[39;00m\n\u001b[32m   1635\u001b[39m \n\u001b[32m   (...)\u001b[39m\u001b[32m   1775\u001b[39m \n\u001b[32m   1776\u001b[39m \u001b[33;03m    \"\"\"\u001b[39;00m\n\u001b[32m-> \u001b[39m\u001b[32m1777\u001b[39m     fig = \u001b[43mfigure\u001b[49m\u001b[43m(\u001b[49m\u001b[43m*\u001b[49m\u001b[43m*\u001b[49m\u001b[43mfig_kw\u001b[49m\u001b[43m)\u001b[49m\n\u001b[32m   1778\u001b[39m     axs = fig.subplots(nrows=nrows, ncols=ncols, sharex=sharex, sharey=sharey,\n\u001b[32m   1779\u001b[39m                        squeeze=squeeze, subplot_kw=subplot_kw,\n\u001b[32m   1780\u001b[39m                        gridspec_kw=gridspec_kw, height_ratios=height_ratios,\n\u001b[32m   1781\u001b[39m                        width_ratios=width_ratios)\n\u001b[32m   1782\u001b[39m     \u001b[38;5;28;01mreturn\u001b[39;00m fig, axs\n",
      "\u001b[36mFile \u001b[39m\u001b[32m/usr/local/python/3.13.3/lib/python3.13/site-packages/matplotlib/pyplot.py:1042\u001b[39m, in \u001b[36mfigure\u001b[39m\u001b[34m(num, figsize, dpi, facecolor, edgecolor, frameon, FigureClass, clear, **kwargs)\u001b[39m\n\u001b[32m   1032\u001b[39m \u001b[38;5;28;01mif\u001b[39;00m \u001b[38;5;28mlen\u001b[39m(allnums) == max_open_warning >= \u001b[32m1\u001b[39m:\n\u001b[32m   1033\u001b[39m     _api.warn_external(\n\u001b[32m   1034\u001b[39m         \u001b[33mf\u001b[39m\u001b[33m\"\u001b[39m\u001b[33mMore than \u001b[39m\u001b[38;5;132;01m{\u001b[39;00mmax_open_warning\u001b[38;5;132;01m}\u001b[39;00m\u001b[33m figures have been opened. \u001b[39m\u001b[33m\"\u001b[39m\n\u001b[32m   1035\u001b[39m         \u001b[33mf\u001b[39m\u001b[33m\"\u001b[39m\u001b[33mFigures created through the pyplot interface \u001b[39m\u001b[33m\"\u001b[39m\n\u001b[32m   (...)\u001b[39m\u001b[32m   1039\u001b[39m         \u001b[33mf\u001b[39m\u001b[33m\"\u001b[39m\u001b[33mConsider using `matplotlib.pyplot.close()`.\u001b[39m\u001b[33m\"\u001b[39m,\n\u001b[32m   1040\u001b[39m         \u001b[38;5;167;01mRuntimeWarning\u001b[39;00m)\n\u001b[32m-> \u001b[39m\u001b[32m1042\u001b[39m manager = \u001b[43mnew_figure_manager\u001b[49m\u001b[43m(\u001b[49m\n\u001b[32m   1043\u001b[39m \u001b[43m    \u001b[49m\u001b[43mnum\u001b[49m\u001b[43m,\u001b[49m\u001b[43m \u001b[49m\u001b[43mfigsize\u001b[49m\u001b[43m=\u001b[49m\u001b[43mfigsize\u001b[49m\u001b[43m,\u001b[49m\u001b[43m \u001b[49m\u001b[43mdpi\u001b[49m\u001b[43m=\u001b[49m\u001b[43mdpi\u001b[49m\u001b[43m,\u001b[49m\n\u001b[32m   1044\u001b[39m \u001b[43m    \u001b[49m\u001b[43mfacecolor\u001b[49m\u001b[43m=\u001b[49m\u001b[43mfacecolor\u001b[49m\u001b[43m,\u001b[49m\u001b[43m \u001b[49m\u001b[43medgecolor\u001b[49m\u001b[43m=\u001b[49m\u001b[43medgecolor\u001b[49m\u001b[43m,\u001b[49m\u001b[43m \u001b[49m\u001b[43mframeon\u001b[49m\u001b[43m=\u001b[49m\u001b[43mframeon\u001b[49m\u001b[43m,\u001b[49m\n\u001b[32m   1045\u001b[39m \u001b[43m    \u001b[49m\u001b[43mFigureClass\u001b[49m\u001b[43m=\u001b[49m\u001b[43mFigureClass\u001b[49m\u001b[43m,\u001b[49m\u001b[43m \u001b[49m\u001b[43m*\u001b[49m\u001b[43m*\u001b[49m\u001b[43mkwargs\u001b[49m\u001b[43m)\u001b[49m\n\u001b[32m   1046\u001b[39m fig = manager.canvas.figure\n\u001b[32m   1047\u001b[39m \u001b[38;5;28;01mif\u001b[39;00m fig_label:\n",
      "\u001b[36mFile \u001b[39m\u001b[32m/usr/local/python/3.13.3/lib/python3.13/site-packages/matplotlib/pyplot.py:551\u001b[39m, in \u001b[36mnew_figure_manager\u001b[39m\u001b[34m(*args, **kwargs)\u001b[39m\n\u001b[32m    549\u001b[39m \u001b[38;5;28;01mdef\u001b[39;00m\u001b[38;5;250m \u001b[39m\u001b[34mnew_figure_manager\u001b[39m(*args, **kwargs):\n\u001b[32m    550\u001b[39m \u001b[38;5;250m    \u001b[39m\u001b[33;03m\"\"\"Create a new figure manager instance.\"\"\"\u001b[39;00m\n\u001b[32m--> \u001b[39m\u001b[32m551\u001b[39m     \u001b[43m_warn_if_gui_out_of_main_thread\u001b[49m\u001b[43m(\u001b[49m\u001b[43m)\u001b[49m\n\u001b[32m    552\u001b[39m     \u001b[38;5;28;01mreturn\u001b[39;00m _get_backend_mod().new_figure_manager(*args, **kwargs)\n",
      "\u001b[36mFile \u001b[39m\u001b[32m/usr/local/python/3.13.3/lib/python3.13/site-packages/matplotlib/pyplot.py:528\u001b[39m, in \u001b[36m_warn_if_gui_out_of_main_thread\u001b[39m\u001b[34m()\u001b[39m\n\u001b[32m    526\u001b[39m \u001b[38;5;28;01mdef\u001b[39;00m\u001b[38;5;250m \u001b[39m\u001b[34m_warn_if_gui_out_of_main_thread\u001b[39m() -> \u001b[38;5;28;01mNone\u001b[39;00m:\n\u001b[32m    527\u001b[39m     warn = \u001b[38;5;28;01mFalse\u001b[39;00m\n\u001b[32m--> \u001b[39m\u001b[32m528\u001b[39m     canvas_class = cast(\u001b[38;5;28mtype\u001b[39m[FigureCanvasBase], \u001b[43m_get_backend_mod\u001b[49m\u001b[43m(\u001b[49m\u001b[43m)\u001b[49m.FigureCanvas)\n\u001b[32m    529\u001b[39m     \u001b[38;5;28;01mif\u001b[39;00m canvas_class.required_interactive_framework:\n\u001b[32m    530\u001b[39m         \u001b[38;5;28;01mif\u001b[39;00m \u001b[38;5;28mhasattr\u001b[39m(threading, \u001b[33m'\u001b[39m\u001b[33mget_native_id\u001b[39m\u001b[33m'\u001b[39m):\n\u001b[32m    531\u001b[39m             \u001b[38;5;66;03m# This compares native thread ids because even if Python-level\u001b[39;00m\n\u001b[32m    532\u001b[39m             \u001b[38;5;66;03m# Thread objects match, the underlying OS thread (which is what\u001b[39;00m\n\u001b[32m    533\u001b[39m             \u001b[38;5;66;03m# really matters) may be different on Python implementations with\u001b[39;00m\n\u001b[32m    534\u001b[39m             \u001b[38;5;66;03m# green threads.\u001b[39;00m\n",
      "\u001b[36mFile \u001b[39m\u001b[32m/usr/local/python/3.13.3/lib/python3.13/site-packages/matplotlib/pyplot.py:369\u001b[39m, in \u001b[36m_get_backend_mod\u001b[39m\u001b[34m()\u001b[39m\n\u001b[32m    360\u001b[39m \u001b[38;5;250m\u001b[39m\u001b[33;03m\"\"\"\u001b[39;00m\n\u001b[32m    361\u001b[39m \u001b[33;03mEnsure that a backend is selected and return it.\u001b[39;00m\n\u001b[32m    362\u001b[39m \n\u001b[32m    363\u001b[39m \u001b[33;03mThis is currently private, but may be made public in the future.\u001b[39;00m\n\u001b[32m    364\u001b[39m \u001b[33;03m\"\"\"\u001b[39;00m\n\u001b[32m    365\u001b[39m \u001b[38;5;28;01mif\u001b[39;00m _backend_mod \u001b[38;5;129;01mis\u001b[39;00m \u001b[38;5;28;01mNone\u001b[39;00m:\n\u001b[32m    366\u001b[39m     \u001b[38;5;66;03m# Use rcParams._get(\"backend\") to avoid going through the fallback\u001b[39;00m\n\u001b[32m    367\u001b[39m     \u001b[38;5;66;03m# logic (which will (re)import pyplot and then call switch_backend if\u001b[39;00m\n\u001b[32m    368\u001b[39m     \u001b[38;5;66;03m# we need to resolve the auto sentinel)\u001b[39;00m\n\u001b[32m--> \u001b[39m\u001b[32m369\u001b[39m     \u001b[43mswitch_backend\u001b[49m\u001b[43m(\u001b[49m\u001b[43mrcParams\u001b[49m\u001b[43m.\u001b[49m\u001b[43m_get\u001b[49m\u001b[43m(\u001b[49m\u001b[33;43m\"\u001b[39;49m\u001b[33;43mbackend\u001b[39;49m\u001b[33;43m\"\u001b[39;49m\u001b[43m)\u001b[49m\u001b[43m)\u001b[49m\n\u001b[32m    370\u001b[39m \u001b[38;5;28;01mreturn\u001b[39;00m cast(\u001b[38;5;28mtype\u001b[39m[matplotlib.backend_bases._Backend], _backend_mod)\n",
      "\u001b[36mFile \u001b[39m\u001b[32m/usr/local/python/3.13.3/lib/python3.13/site-packages/matplotlib/pyplot.py:425\u001b[39m, in \u001b[36mswitch_backend\u001b[39m\u001b[34m(newbackend)\u001b[39m\n\u001b[32m    422\u001b[39m         \u001b[38;5;28;01mreturn\u001b[39;00m\n\u001b[32m    423\u001b[39m old_backend = rcParams._get(\u001b[33m'\u001b[39m\u001b[33mbackend\u001b[39m\u001b[33m'\u001b[39m)  \u001b[38;5;66;03m# get without triggering backend resolution\u001b[39;00m\n\u001b[32m--> \u001b[39m\u001b[32m425\u001b[39m module = \u001b[43mbackend_registry\u001b[49m\u001b[43m.\u001b[49m\u001b[43mload_backend_module\u001b[49m\u001b[43m(\u001b[49m\u001b[43mnewbackend\u001b[49m\u001b[43m)\u001b[49m\n\u001b[32m    426\u001b[39m canvas_class = module.FigureCanvas\n\u001b[32m    428\u001b[39m required_framework = canvas_class.required_interactive_framework\n",
      "\u001b[36mFile \u001b[39m\u001b[32m/usr/local/python/3.13.3/lib/python3.13/site-packages/matplotlib/backends/registry.py:317\u001b[39m, in \u001b[36mBackendRegistry.load_backend_module\u001b[39m\u001b[34m(self, backend)\u001b[39m\n\u001b[32m    303\u001b[39m \u001b[38;5;250m\u001b[39m\u001b[33;03m\"\"\"\u001b[39;00m\n\u001b[32m    304\u001b[39m \u001b[33;03mLoad and return the module containing the specified backend.\u001b[39;00m\n\u001b[32m    305\u001b[39m \n\u001b[32m   (...)\u001b[39m\u001b[32m    314\u001b[39m \u001b[33;03m    Module containing backend.\u001b[39;00m\n\u001b[32m    315\u001b[39m \u001b[33;03m\"\"\"\u001b[39;00m\n\u001b[32m    316\u001b[39m module_name = \u001b[38;5;28mself\u001b[39m._backend_module_name(backend)\n\u001b[32m--> \u001b[39m\u001b[32m317\u001b[39m \u001b[38;5;28;01mreturn\u001b[39;00m \u001b[43mimportlib\u001b[49m\u001b[43m.\u001b[49m\u001b[43mimport_module\u001b[49m\u001b[43m(\u001b[49m\u001b[43mmodule_name\u001b[49m\u001b[43m)\u001b[49m\n",
      "\u001b[36mFile \u001b[39m\u001b[32m/usr/local/python/3.13.3/lib/python3.13/importlib/__init__.py:88\u001b[39m, in \u001b[36mimport_module\u001b[39m\u001b[34m(name, package)\u001b[39m\n\u001b[32m     86\u001b[39m             \u001b[38;5;28;01mbreak\u001b[39;00m\n\u001b[32m     87\u001b[39m         level += \u001b[32m1\u001b[39m\n\u001b[32m---> \u001b[39m\u001b[32m88\u001b[39m \u001b[38;5;28;01mreturn\u001b[39;00m \u001b[43m_bootstrap\u001b[49m\u001b[43m.\u001b[49m\u001b[43m_gcd_import\u001b[49m\u001b[43m(\u001b[49m\u001b[43mname\u001b[49m\u001b[43m[\u001b[49m\u001b[43mlevel\u001b[49m\u001b[43m:\u001b[49m\u001b[43m]\u001b[49m\u001b[43m,\u001b[49m\u001b[43m \u001b[49m\u001b[43mpackage\u001b[49m\u001b[43m,\u001b[49m\u001b[43m \u001b[49m\u001b[43mlevel\u001b[49m\u001b[43m)\u001b[49m\n",
      "\u001b[36mFile \u001b[39m\u001b[32m<frozen importlib._bootstrap>:1387\u001b[39m, in \u001b[36m_gcd_import\u001b[39m\u001b[34m(name, package, level)\u001b[39m\n",
      "\u001b[36mFile \u001b[39m\u001b[32m<frozen importlib._bootstrap>:1360\u001b[39m, in \u001b[36m_find_and_load\u001b[39m\u001b[34m(name, import_)\u001b[39m\n",
      "\u001b[36mFile \u001b[39m\u001b[32m<frozen importlib._bootstrap>:1331\u001b[39m, in \u001b[36m_find_and_load_unlocked\u001b[39m\u001b[34m(name, import_)\u001b[39m\n",
      "\u001b[36mFile \u001b[39m\u001b[32m<frozen importlib._bootstrap>:935\u001b[39m, in \u001b[36m_load_unlocked\u001b[39m\u001b[34m(spec)\u001b[39m\n",
      "\u001b[36mFile \u001b[39m\u001b[32m<frozen importlib._bootstrap_external>:1026\u001b[39m, in \u001b[36mexec_module\u001b[39m\u001b[34m(self, module)\u001b[39m\n",
      "\u001b[36mFile \u001b[39m\u001b[32m<frozen importlib._bootstrap>:488\u001b[39m, in \u001b[36m_call_with_frames_removed\u001b[39m\u001b[34m(f, *args, **kwds)\u001b[39m\n",
      "\u001b[36mFile \u001b[39m\u001b[32m/usr/local/python/3.13.3/lib/python3.13/site-packages/matplotlib/backends/backend_qtagg.py:9\u001b[39m\n\u001b[32m      5\u001b[39m \u001b[38;5;28;01mimport\u001b[39;00m\u001b[38;5;250m \u001b[39m\u001b[34;01mctypes\u001b[39;00m\n\u001b[32m      7\u001b[39m \u001b[38;5;28;01mfrom\u001b[39;00m\u001b[38;5;250m \u001b[39m\u001b[34;01mmatplotlib\u001b[39;00m\u001b[34;01m.\u001b[39;00m\u001b[34;01mtransforms\u001b[39;00m\u001b[38;5;250m \u001b[39m\u001b[38;5;28;01mimport\u001b[39;00m Bbox\n\u001b[32m----> \u001b[39m\u001b[32m9\u001b[39m \u001b[38;5;28;01mfrom\u001b[39;00m\u001b[38;5;250m \u001b[39m\u001b[34;01m.\u001b[39;00m\u001b[34;01mqt_compat\u001b[39;00m\u001b[38;5;250m \u001b[39m\u001b[38;5;28;01mimport\u001b[39;00m QT_API, QtCore, QtGui\n\u001b[32m     10\u001b[39m \u001b[38;5;28;01mfrom\u001b[39;00m\u001b[38;5;250m \u001b[39m\u001b[34;01m.\u001b[39;00m\u001b[34;01mbackend_agg\u001b[39;00m\u001b[38;5;250m \u001b[39m\u001b[38;5;28;01mimport\u001b[39;00m FigureCanvasAgg\n\u001b[32m     11\u001b[39m \u001b[38;5;28;01mfrom\u001b[39;00m\u001b[38;5;250m \u001b[39m\u001b[34;01m.\u001b[39;00m\u001b[34;01mbackend_qt\u001b[39;00m\u001b[38;5;250m \u001b[39m\u001b[38;5;28;01mimport\u001b[39;00m _BackendQT, FigureCanvasQT\n",
      "\u001b[36mFile \u001b[39m\u001b[32m/usr/local/python/3.13.3/lib/python3.13/site-packages/matplotlib/backends/qt_compat.py:109\u001b[39m\n\u001b[32m    105\u001b[39m         \u001b[38;5;28;01mraise\u001b[39;00m \u001b[38;5;167;01mAssertionError\u001b[39;00m(\u001b[33mf\u001b[39m\u001b[33m\"\u001b[39m\u001b[33mUnexpected QT_API: \u001b[39m\u001b[38;5;132;01m{\u001b[39;00mQT_API\u001b[38;5;132;01m}\u001b[39;00m\u001b[33m\"\u001b[39m)\n\u001b[32m    108\u001b[39m \u001b[38;5;28;01mif\u001b[39;00m QT_API \u001b[38;5;129;01min\u001b[39;00m [QT_API_PYQT6, QT_API_PYQT5, QT_API_PYSIDE6, QT_API_PYSIDE2]:\n\u001b[32m--> \u001b[39m\u001b[32m109\u001b[39m     \u001b[43m_setup_pyqt5plus\u001b[49m\u001b[43m(\u001b[49m\u001b[43m)\u001b[49m\n\u001b[32m    110\u001b[39m \u001b[38;5;28;01melif\u001b[39;00m QT_API \u001b[38;5;129;01mis\u001b[39;00m \u001b[38;5;28;01mNone\u001b[39;00m:  \u001b[38;5;66;03m# See above re: dict.__getitem__.\u001b[39;00m\n\u001b[32m    111\u001b[39m     \u001b[38;5;28;01mif\u001b[39;00m _QT_FORCE_QT5_BINDING:\n",
      "\u001b[36mFile \u001b[39m\u001b[32m/usr/local/python/3.13.3/lib/python3.13/site-packages/matplotlib/backends/qt_compat.py:71\u001b[39m, in \u001b[36m_setup_pyqt5plus\u001b[39m\u001b[34m()\u001b[39m\n\u001b[32m     68\u001b[39m \u001b[38;5;28;01mglobal\u001b[39;00m _isdeleted, _to_int\n\u001b[32m     70\u001b[39m \u001b[38;5;28;01mif\u001b[39;00m QT_API == QT_API_PYQT6:\n\u001b[32m---> \u001b[39m\u001b[32m71\u001b[39m     \u001b[38;5;28;01mfrom\u001b[39;00m\u001b[38;5;250m \u001b[39m\u001b[34;01mPyQt6\u001b[39;00m\u001b[38;5;250m \u001b[39m\u001b[38;5;28;01mimport\u001b[39;00m QtCore, QtGui, QtWidgets, sip\n\u001b[32m     72\u001b[39m     __version__ = QtCore.PYQT_VERSION_STR\n\u001b[32m     73\u001b[39m     QtCore.Signal = QtCore.pyqtSignal\n",
      "\u001b[31mImportError\u001b[39m: libGL.so.1: cannot open shared object file: No such file or directory"
     ]
    }
   ],
   "source": [
    "pipeline(\"butterfly.jpg\", transform_kmeans, title=\"Butterfly\")"
   ]
  },
  {
   "cell_type": "code",
   "execution_count": null,
   "id": "84e4c86d",
   "metadata": {},
   "outputs": [],
   "source": [
    "pipeline(\"butterfly.jpg\", transform_pca, title=\"Butterfly\")"
   ]
  },
  {
   "cell_type": "markdown",
   "id": "b66a70c2",
   "metadata": {},
   "source": [
    "## Flower"
   ]
  },
  {
   "cell_type": "code",
   "execution_count": null,
   "id": "db3a2f67",
   "metadata": {},
   "outputs": [],
   "source": [
    "pipeline(\"flower.jpg\", transform_kmeans, title=\"Flower\")"
   ]
  },
  {
   "cell_type": "code",
   "execution_count": null,
   "id": "09a5bcbf",
   "metadata": {},
   "outputs": [],
   "source": [
    "pipeline(\"flower.jpg\", transform_pca, title=\"Flower\")"
   ]
  },
  {
   "cell_type": "markdown",
   "id": "fd94e388",
   "metadata": {},
   "source": [
    "## NASA"
   ]
  },
  {
   "cell_type": "code",
   "execution_count": null,
   "id": "17bbd647",
   "metadata": {},
   "outputs": [],
   "source": [
    "pipeline(\"nasa.jpg\", transform_kmeans, title=\"NASA\")"
   ]
  },
  {
   "cell_type": "code",
   "execution_count": null,
   "id": "57a6defd",
   "metadata": {},
   "outputs": [],
   "source": [
    "pipeline(\"nasa.jpg\", transform_pca, title=\"NASA\")"
   ]
  }
 ],
 "metadata": {
  "kernelspec": {
   "display_name": "Python 3",
   "language": "python",
   "name": "python3"
  },
  "language_info": {
   "codemirror_mode": {
    "name": "ipython",
    "version": 3
   },
   "file_extension": ".py",
   "mimetype": "text/x-python",
   "name": "python",
   "nbconvert_exporter": "python",
   "pygments_lexer": "ipython3",
   "version": "3.13.3"
  }
 },
 "nbformat": 4,
 "nbformat_minor": 5
}
